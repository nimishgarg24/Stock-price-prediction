{
  "nbformat": 4,
  "nbformat_minor": 0,
  "metadata": {
    "colab": {
      "provenance": [],
      "include_colab_link": true
    },
    "kernelspec": {
      "name": "python3",
      "display_name": "Python 3"
    }
  },
  "cells": [
    {
      "cell_type": "markdown",
      "metadata": {
        "id": "view-in-github",
        "colab_type": "text"
      },
      "source": [
        "<a href=\"https://colab.research.google.com/github/nimishgarg24/Stock-price-prediction/blob/main/Copy_of_rnn.ipynb\" target=\"_parent\"><img src=\"https://colab.research.google.com/assets/colab-badge.svg\" alt=\"Open In Colab\"/></a>"
      ]
    },
    {
      "cell_type": "markdown",
      "metadata": {
        "id": "xpAuMVCwfWs8"
      },
      "source": [
        "# Recurrent Neural Network"
      ]
    },
    {
      "cell_type": "markdown",
      "metadata": {
        "id": "nxJfRe4bfYVA"
      },
      "source": [
        "## Part 1 - Data Preprocessing"
      ]
    },
    {
      "cell_type": "markdown",
      "metadata": {
        "id": "ir9zwETrfbrp"
      },
      "source": [
        "### Importing the libraries"
      ]
    },
    {
      "cell_type": "code",
      "source": [
        "import numpy as np\n",
        "import matplotlib.pyplot as plt\n",
        "import pandas as pd"
      ],
      "metadata": {
        "id": "o4ShmfzaJAvl"
      },
      "execution_count": null,
      "outputs": []
    },
    {
      "cell_type": "markdown",
      "metadata": {
        "id": "nQ47JAxrgmaL"
      },
      "source": [
        "### Importing the training set"
      ]
    },
    {
      "cell_type": "code",
      "source": [
        "dataset=pd.read_csv('Google_Stock_Price_Train.csv')\n",
        "training_set=dataset.iloc[:,1:2].values\n"
      ],
      "metadata": {
        "id": "euOYgfuoJVD5"
      },
      "execution_count": null,
      "outputs": []
    },
    {
      "cell_type": "code",
      "source": [
        "print(training_set)"
      ],
      "metadata": {
        "colab": {
          "base_uri": "https://localhost:8080/"
        },
        "id": "aEcMT_-jKtbM",
        "outputId": "0489680c-85df-4027-c8cb-f6a56b1d2a26"
      },
      "execution_count": null,
      "outputs": [
        {
          "output_type": "stream",
          "name": "stdout",
          "text": [
            "[[325.25]\n",
            " [331.27]\n",
            " [329.83]\n",
            " ...\n",
            " [793.7 ]\n",
            " [783.33]\n",
            " [782.75]]\n"
          ]
        }
      ]
    },
    {
      "cell_type": "markdown",
      "metadata": {
        "id": "HT8_2UJegtG5"
      },
      "source": [
        "### Feature Scaling"
      ]
    },
    {
      "cell_type": "code",
      "source": [
        "from sklearn.preprocessing import MinMaxScaler\n",
        "sc=MinMaxScaler(feature_range=(0,1))\n",
        "training_set_scaled=sc.fit_transform(training_set)"
      ],
      "metadata": {
        "id": "WUglvbbVNYuG"
      },
      "execution_count": null,
      "outputs": []
    },
    {
      "cell_type": "code",
      "source": [
        "print(training_set_scaled)"
      ],
      "metadata": {
        "colab": {
          "base_uri": "https://localhost:8080/"
        },
        "id": "BndKwcRcN-I-",
        "outputId": "df580e1a-2e18-4280-cdc0-81558335aa40"
      },
      "execution_count": null,
      "outputs": [
        {
          "output_type": "stream",
          "name": "stdout",
          "text": [
            "[[0.08581368]\n",
            " [0.09701243]\n",
            " [0.09433366]\n",
            " ...\n",
            " [0.95725128]\n",
            " [0.93796041]\n",
            " [0.93688146]]\n"
          ]
        }
      ]
    },
    {
      "cell_type": "markdown",
      "metadata": {
        "id": "JyYgYocqhNUg"
      },
      "source": [
        "### Creating a data structure with 60 timesteps and 1 output"
      ]
    },
    {
      "cell_type": "code",
      "source": [
        "x_train=[]\n",
        "y_train=[]\n",
        "for i in range(60,1258):\n",
        "  x_train.append(training_set_scaled[i-60:i,0])\n",
        "  y_train.append(training_set_scaled[i,0])\n",
        "x_train,y_train=np.array(x_train),np.array(y_train)"
      ],
      "metadata": {
        "id": "7YFFWRXWThcM"
      },
      "execution_count": null,
      "outputs": []
    },
    {
      "cell_type": "code",
      "source": [
        "print(x_train)"
      ],
      "metadata": {
        "colab": {
          "base_uri": "https://localhost:8080/"
        },
        "id": "3K1XtIO8UZXJ",
        "outputId": "cc8b64f9-91e1-4509-b222-174b8ed88ad6"
      },
      "execution_count": null,
      "outputs": [
        {
          "output_type": "stream",
          "name": "stdout",
          "text": [
            "[[0.08581368 0.09701243 0.09433366 ... 0.07846566 0.08034452 0.08497656]\n",
            " [0.09701243 0.09433366 0.09156187 ... 0.08034452 0.08497656 0.08627874]\n",
            " [0.09433366 0.09156187 0.07984225 ... 0.08497656 0.08627874 0.08471612]\n",
            " ...\n",
            " [0.92106928 0.92438053 0.93048218 ... 0.95475854 0.95204256 0.95163331]\n",
            " [0.92438053 0.93048218 0.9299055  ... 0.95204256 0.95163331 0.95725128]\n",
            " [0.93048218 0.9299055  0.93113327 ... 0.95163331 0.95725128 0.93796041]]\n"
          ]
        }
      ]
    },
    {
      "cell_type": "code",
      "source": [
        "print(y_train)"
      ],
      "metadata": {
        "colab": {
          "base_uri": "https://localhost:8080/"
        },
        "id": "bfmPq_IWUcYF",
        "outputId": "0cd0040e-6f03-4040-8614-9bf3d5610f9c"
      },
      "execution_count": null,
      "outputs": [
        {
          "output_type": "stream",
          "name": "stdout",
          "text": [
            "[0.08627874 0.08471612 0.07454052 ... 0.95725128 0.93796041 0.93688146]\n"
          ]
        }
      ]
    },
    {
      "cell_type": "markdown",
      "metadata": {
        "id": "D8yaN7Zvi95l"
      },
      "source": [
        "### Reshaping"
      ]
    },
    {
      "cell_type": "code",
      "source": [
        "x_train=np.reshape(x_train,(x_train.shape[0],x_train.shape[1],1))"
      ],
      "metadata": {
        "id": "KSjygkRwWqyx"
      },
      "execution_count": null,
      "outputs": []
    },
    {
      "cell_type": "code",
      "source": [
        "print(x_train)"
      ],
      "metadata": {
        "colab": {
          "base_uri": "https://localhost:8080/"
        },
        "id": "yQtb6ICCW6tv",
        "outputId": "e8797223-a7dd-4927-d37a-6d86146c87d7"
      },
      "execution_count": null,
      "outputs": [
        {
          "output_type": "stream",
          "name": "stdout",
          "text": [
            "[[[0.08581368]\n",
            "  [0.09701243]\n",
            "  [0.09433366]\n",
            "  ...\n",
            "  [0.07846566]\n",
            "  [0.08034452]\n",
            "  [0.08497656]]\n",
            "\n",
            " [[0.09701243]\n",
            "  [0.09433366]\n",
            "  [0.09156187]\n",
            "  ...\n",
            "  [0.08034452]\n",
            "  [0.08497656]\n",
            "  [0.08627874]]\n",
            "\n",
            " [[0.09433366]\n",
            "  [0.09156187]\n",
            "  [0.07984225]\n",
            "  ...\n",
            "  [0.08497656]\n",
            "  [0.08627874]\n",
            "  [0.08471612]]\n",
            "\n",
            " ...\n",
            "\n",
            " [[0.92106928]\n",
            "  [0.92438053]\n",
            "  [0.93048218]\n",
            "  ...\n",
            "  [0.95475854]\n",
            "  [0.95204256]\n",
            "  [0.95163331]]\n",
            "\n",
            " [[0.92438053]\n",
            "  [0.93048218]\n",
            "  [0.9299055 ]\n",
            "  ...\n",
            "  [0.95204256]\n",
            "  [0.95163331]\n",
            "  [0.95725128]]\n",
            "\n",
            " [[0.93048218]\n",
            "  [0.9299055 ]\n",
            "  [0.93113327]\n",
            "  ...\n",
            "  [0.95163331]\n",
            "  [0.95725128]\n",
            "  [0.93796041]]]\n"
          ]
        }
      ]
    },
    {
      "cell_type": "markdown",
      "metadata": {
        "id": "ZRRSOJeVjEWV"
      },
      "source": [
        "## Part 2 - Building and Training the RNN"
      ]
    },
    {
      "cell_type": "markdown",
      "metadata": {
        "id": "k4XV88JMjHXG"
      },
      "source": [
        "### Importing the Keras libraries and packages"
      ]
    },
    {
      "cell_type": "code",
      "source": [
        "from keras.models import Sequential\n",
        "from keras.layers import Dense\n",
        "from keras.layers import LSTM\n",
        "from keras.layers import Dropout"
      ],
      "metadata": {
        "id": "tlYB5NiAYBb7"
      },
      "execution_count": null,
      "outputs": []
    },
    {
      "cell_type": "markdown",
      "metadata": {
        "id": "FEIE-1s9jNzC"
      },
      "source": [
        "### Initialising the RNN"
      ]
    },
    {
      "cell_type": "code",
      "source": [
        "regressor=Sequential()"
      ],
      "metadata": {
        "id": "gO0BEF5yYieZ"
      },
      "execution_count": null,
      "outputs": []
    },
    {
      "cell_type": "markdown",
      "metadata": {
        "id": "62eg1OPGjT8z"
      },
      "source": [
        "### Adding the first LSTM layer and some Dropout regularisation"
      ]
    },
    {
      "cell_type": "code",
      "source": [
        "regressor.add(LSTM(units=50,return_sequences=True,input_shape=(x_train.shape[1],1)))\n",
        "regressor.add(Dropout(0.2))"
      ],
      "metadata": {
        "id": "wqeNCekLauUb"
      },
      "execution_count": null,
      "outputs": []
    },
    {
      "cell_type": "markdown",
      "metadata": {
        "id": "3XBIYLyOjlMx"
      },
      "source": [
        "### Adding a second LSTM layer and some Dropout regularisation"
      ]
    },
    {
      "cell_type": "code",
      "source": [
        "regressor.add(LSTM(units=50,return_sequences=True))\n",
        "regressor.add(Dropout(0.2))"
      ],
      "metadata": {
        "id": "cd-uSN-RcSvE"
      },
      "execution_count": null,
      "outputs": []
    },
    {
      "cell_type": "markdown",
      "metadata": {
        "id": "Ey3fHVnGj1cu"
      },
      "source": [
        "### Adding a third LSTM layer and some Dropout regularisation"
      ]
    },
    {
      "cell_type": "code",
      "source": [
        "regressor.add(LSTM(units=50,return_sequences=True))\n",
        "regressor.add(Dropout(0.2))"
      ],
      "metadata": {
        "id": "OvGJ-EvLcav6"
      },
      "execution_count": null,
      "outputs": []
    },
    {
      "cell_type": "markdown",
      "metadata": {
        "id": "SYTrtfTmj933"
      },
      "source": [
        "### Adding a fourth LSTM layer and some Dropout regularisation"
      ]
    },
    {
      "cell_type": "code",
      "source": [
        "regressor.add(LSTM(units=50))\n",
        "regressor.add(Dropout(0.2))"
      ],
      "metadata": {
        "id": "qgqNiFfncdYC"
      },
      "execution_count": null,
      "outputs": []
    },
    {
      "cell_type": "markdown",
      "metadata": {
        "id": "9ABI6rOIkHhk"
      },
      "source": [
        "### Adding the output layer"
      ]
    },
    {
      "cell_type": "code",
      "source": [
        "regressor.add(Dense(units=1))"
      ],
      "metadata": {
        "id": "8ywhhplJdRld"
      },
      "execution_count": null,
      "outputs": []
    },
    {
      "cell_type": "markdown",
      "metadata": {
        "id": "zLx4K7uUkPSh"
      },
      "source": [
        "### Compiling the RNN"
      ]
    },
    {
      "cell_type": "code",
      "source": [
        "regressor.compile(optimizer='adam',loss='mean_squared_error')"
      ],
      "metadata": {
        "id": "Gt-gP65feJN5"
      },
      "execution_count": null,
      "outputs": []
    },
    {
      "cell_type": "markdown",
      "metadata": {
        "id": "-mPhwKGkkebi"
      },
      "source": [
        "### Fitting the RNN to the Training set"
      ]
    },
    {
      "cell_type": "code",
      "source": [
        "regressor.fit(x_train,y_train,epochs=100,batch_size=32)"
      ],
      "metadata": {
        "colab": {
          "base_uri": "https://localhost:8080/"
        },
        "id": "C7xOCBlFRysH",
        "outputId": "fddc55bd-ae96-4608-e21c-2bdde8ffc2b8"
      },
      "execution_count": null,
      "outputs": [
        {
          "output_type": "stream",
          "name": "stdout",
          "text": [
            "Epoch 1/100\n",
            "38/38 [==============================] - 13s 109ms/step - loss: 0.0463\n",
            "Epoch 2/100\n",
            "38/38 [==============================] - 5s 137ms/step - loss: 0.0073\n",
            "Epoch 3/100\n",
            "38/38 [==============================] - 4s 109ms/step - loss: 0.0053\n",
            "Epoch 4/100\n",
            "38/38 [==============================] - 5s 126ms/step - loss: 0.0050\n",
            "Epoch 5/100\n",
            "38/38 [==============================] - 5s 117ms/step - loss: 0.0053\n",
            "Epoch 6/100\n",
            "38/38 [==============================] - 4s 109ms/step - loss: 0.0049\n",
            "Epoch 7/100\n",
            "38/38 [==============================] - 5s 135ms/step - loss: 0.0044\n",
            "Epoch 8/100\n",
            "38/38 [==============================] - 4s 109ms/step - loss: 0.0045\n",
            "Epoch 9/100\n",
            "38/38 [==============================] - 4s 111ms/step - loss: 0.0043\n",
            "Epoch 10/100\n",
            "38/38 [==============================] - 5s 144ms/step - loss: 0.0045\n",
            "Epoch 11/100\n",
            "38/38 [==============================] - 4s 109ms/step - loss: 0.0039\n",
            "Epoch 12/100\n",
            "38/38 [==============================] - 5s 136ms/step - loss: 0.0040\n",
            "Epoch 13/100\n",
            "38/38 [==============================] - 5s 120ms/step - loss: 0.0043\n",
            "Epoch 14/100\n",
            "38/38 [==============================] - 5s 144ms/step - loss: 0.0042\n",
            "Epoch 15/100\n",
            "38/38 [==============================] - 5s 138ms/step - loss: 0.0038\n",
            "Epoch 16/100\n",
            "38/38 [==============================] - 4s 109ms/step - loss: 0.0041\n",
            "Epoch 17/100\n",
            "38/38 [==============================] - 4s 112ms/step - loss: 0.0036\n",
            "Epoch 18/100\n",
            "38/38 [==============================] - 5s 133ms/step - loss: 0.0036\n",
            "Epoch 19/100\n",
            "38/38 [==============================] - 4s 110ms/step - loss: 0.0037\n",
            "Epoch 20/100\n",
            "38/38 [==============================] - 5s 131ms/step - loss: 0.0037\n",
            "Epoch 21/100\n",
            "38/38 [==============================] - 4s 116ms/step - loss: 0.0040\n",
            "Epoch 22/100\n",
            "38/38 [==============================] - 4s 117ms/step - loss: 0.0042\n",
            "Epoch 23/100\n",
            "38/38 [==============================] - 9s 236ms/step - loss: 0.0039\n",
            "Epoch 24/100\n",
            "38/38 [==============================] - 5s 141ms/step - loss: 0.0033\n",
            "Epoch 25/100\n",
            "38/38 [==============================] - 5s 138ms/step - loss: 0.0033\n",
            "Epoch 26/100\n",
            "38/38 [==============================] - 5s 138ms/step - loss: 0.0033\n",
            "Epoch 27/100\n",
            "38/38 [==============================] - 4s 111ms/step - loss: 0.0031\n",
            "Epoch 28/100\n",
            "38/38 [==============================] - 5s 137ms/step - loss: 0.0030\n",
            "Epoch 29/100\n",
            "38/38 [==============================] - 4s 110ms/step - loss: 0.0031\n",
            "Epoch 30/100\n",
            "38/38 [==============================] - 5s 125ms/step - loss: 0.0033\n",
            "Epoch 31/100\n",
            "38/38 [==============================] - 5s 122ms/step - loss: 0.0031\n",
            "Epoch 32/100\n",
            "38/38 [==============================] - 4s 110ms/step - loss: 0.0028\n",
            "Epoch 33/100\n",
            "38/38 [==============================] - 5s 138ms/step - loss: 0.0026\n",
            "Epoch 34/100\n",
            "38/38 [==============================] - 4s 110ms/step - loss: 0.0031\n",
            "Epoch 35/100\n",
            "38/38 [==============================] - 4s 111ms/step - loss: 0.0033\n",
            "Epoch 36/100\n",
            "38/38 [==============================] - 5s 134ms/step - loss: 0.0032\n",
            "Epoch 37/100\n",
            "38/38 [==============================] - 4s 111ms/step - loss: 0.0033\n",
            "Epoch 38/100\n",
            "38/38 [==============================] - 5s 123ms/step - loss: 0.0028\n",
            "Epoch 39/100\n",
            "38/38 [==============================] - 5s 130ms/step - loss: 0.0026\n",
            "Epoch 40/100\n",
            "38/38 [==============================] - 5s 138ms/step - loss: 0.0027\n",
            "Epoch 41/100\n",
            "38/38 [==============================] - 5s 137ms/step - loss: 0.0026\n",
            "Epoch 42/100\n",
            "38/38 [==============================] - 4s 113ms/step - loss: 0.0025\n",
            "Epoch 43/100\n",
            "38/38 [==============================] - 4s 112ms/step - loss: 0.0029\n",
            "Epoch 44/100\n",
            "38/38 [==============================] - 5s 136ms/step - loss: 0.0026\n",
            "Epoch 45/100\n",
            "38/38 [==============================] - 4s 111ms/step - loss: 0.0026\n",
            "Epoch 46/100\n",
            "38/38 [==============================] - 5s 132ms/step - loss: 0.0023\n",
            "Epoch 47/100\n",
            "38/38 [==============================] - 4s 113ms/step - loss: 0.0025\n",
            "Epoch 48/100\n",
            "38/38 [==============================] - 4s 112ms/step - loss: 0.0024\n",
            "Epoch 49/100\n",
            "38/38 [==============================] - 5s 135ms/step - loss: 0.0028\n",
            "Epoch 50/100\n",
            "38/38 [==============================] - 4s 113ms/step - loss: 0.0025\n",
            "Epoch 51/100\n",
            "38/38 [==============================] - 4s 110ms/step - loss: 0.0023\n",
            "Epoch 52/100\n",
            "38/38 [==============================] - 5s 134ms/step - loss: 0.0022\n",
            "Epoch 53/100\n",
            "38/38 [==============================] - 4s 113ms/step - loss: 0.0022\n",
            "Epoch 54/100\n",
            "38/38 [==============================] - 5s 131ms/step - loss: 0.0022\n",
            "Epoch 55/100\n",
            "38/38 [==============================] - 4s 112ms/step - loss: 0.0024\n",
            "Epoch 56/100\n",
            "38/38 [==============================] - 4s 110ms/step - loss: 0.0024\n",
            "Epoch 57/100\n",
            "38/38 [==============================] - 5s 134ms/step - loss: 0.0024\n",
            "Epoch 58/100\n",
            "38/38 [==============================] - 4s 109ms/step - loss: 0.0022\n",
            "Epoch 59/100\n",
            "38/38 [==============================] - 4s 112ms/step - loss: 0.0022\n",
            "Epoch 60/100\n",
            "38/38 [==============================] - 5s 133ms/step - loss: 0.0021\n",
            "Epoch 61/100\n",
            "38/38 [==============================] - 4s 111ms/step - loss: 0.0023\n",
            "Epoch 62/100\n",
            "38/38 [==============================] - 5s 131ms/step - loss: 0.0022\n",
            "Epoch 63/100\n",
            "38/38 [==============================] - 4s 116ms/step - loss: 0.0020\n",
            "Epoch 64/100\n",
            "38/38 [==============================] - 4s 111ms/step - loss: 0.0020\n",
            "Epoch 65/100\n",
            "38/38 [==============================] - 5s 135ms/step - loss: 0.0020\n",
            "Epoch 66/100\n",
            "38/38 [==============================] - 4s 111ms/step - loss: 0.0019\n",
            "Epoch 67/100\n",
            "38/38 [==============================] - 4s 111ms/step - loss: 0.0020\n",
            "Epoch 68/100\n",
            "38/38 [==============================] - 5s 134ms/step - loss: 0.0019\n",
            "Epoch 69/100\n",
            "38/38 [==============================] - 4s 112ms/step - loss: 0.0019\n",
            "Epoch 70/100\n",
            "38/38 [==============================] - 5s 130ms/step - loss: 0.0019\n",
            "Epoch 71/100\n",
            "38/38 [==============================] - 5s 140ms/step - loss: 0.0019\n",
            "Epoch 72/100\n",
            "38/38 [==============================] - 4s 111ms/step - loss: 0.0017\n",
            "Epoch 73/100\n",
            "38/38 [==============================] - 6s 153ms/step - loss: 0.0018\n",
            "Epoch 74/100\n",
            "38/38 [==============================] - 5s 119ms/step - loss: 0.0017\n",
            "Epoch 75/100\n",
            "38/38 [==============================] - 4s 110ms/step - loss: 0.0016\n",
            "Epoch 76/100\n",
            "38/38 [==============================] - 5s 136ms/step - loss: 0.0017\n",
            "Epoch 77/100\n",
            "38/38 [==============================] - 4s 111ms/step - loss: 0.0020\n",
            "Epoch 78/100\n",
            "38/38 [==============================] - 4s 116ms/step - loss: 0.0018\n",
            "Epoch 79/100\n",
            "38/38 [==============================] - 5s 131ms/step - loss: 0.0018\n",
            "Epoch 80/100\n",
            "38/38 [==============================] - 4s 113ms/step - loss: 0.0017\n",
            "Epoch 81/100\n",
            "38/38 [==============================] - 5s 137ms/step - loss: 0.0015\n",
            "Epoch 82/100\n",
            "38/38 [==============================] - 5s 124ms/step - loss: 0.0017\n",
            "Epoch 83/100\n",
            "38/38 [==============================] - 5s 125ms/step - loss: 0.0017\n",
            "Epoch 84/100\n",
            "38/38 [==============================] - 5s 136ms/step - loss: 0.0016\n",
            "Epoch 85/100\n",
            "38/38 [==============================] - 4s 113ms/step - loss: 0.0016\n",
            "Epoch 86/100\n",
            "38/38 [==============================] - 5s 136ms/step - loss: 0.0015\n",
            "Epoch 87/100\n",
            "38/38 [==============================] - 4s 111ms/step - loss: 0.0015\n",
            "Epoch 88/100\n",
            "38/38 [==============================] - 4s 112ms/step - loss: 0.0016\n",
            "Epoch 89/100\n",
            "38/38 [==============================] - 5s 138ms/step - loss: 0.0015\n",
            "Epoch 90/100\n",
            "38/38 [==============================] - 4s 111ms/step - loss: 0.0015\n",
            "Epoch 91/100\n",
            "38/38 [==============================] - 4s 113ms/step - loss: 0.0015\n",
            "Epoch 92/100\n",
            "38/38 [==============================] - 5s 130ms/step - loss: 0.0018\n",
            "Epoch 93/100\n",
            "38/38 [==============================] - 4s 111ms/step - loss: 0.0016\n",
            "Epoch 94/100\n",
            "38/38 [==============================] - 5s 135ms/step - loss: 0.0015\n",
            "Epoch 95/100\n",
            "38/38 [==============================] - 4s 111ms/step - loss: 0.0016\n",
            "Epoch 96/100\n",
            "38/38 [==============================] - 4s 112ms/step - loss: 0.0016\n",
            "Epoch 97/100\n",
            "38/38 [==============================] - 5s 135ms/step - loss: 0.0015\n",
            "Epoch 98/100\n",
            "38/38 [==============================] - 4s 111ms/step - loss: 0.0015\n",
            "Epoch 99/100\n",
            "38/38 [==============================] - 4s 111ms/step - loss: 0.0015\n",
            "Epoch 100/100\n",
            "38/38 [==============================] - 5s 134ms/step - loss: 0.0015\n"
          ]
        },
        {
          "output_type": "execute_result",
          "data": {
            "text/plain": [
              "<keras.src.callbacks.History at 0x7ccf79456d10>"
            ]
          },
          "metadata": {},
          "execution_count": 19
        }
      ]
    },
    {
      "cell_type": "markdown",
      "metadata": {
        "id": "4hRau_lIkrE8"
      },
      "source": [
        "## Part 3 - Making the predictions and visualising the results"
      ]
    },
    {
      "cell_type": "markdown",
      "metadata": {
        "id": "SgJO6qEDksxD"
      },
      "source": [
        "### Getting the real stock price of 2017"
      ]
    },
    {
      "cell_type": "code",
      "source": [
        "dataset_test=pd.read_csv('Google_Stock_Price_Test.csv')\n",
        "real_stock_price=dataset_test.iloc[:,1:2].values"
      ],
      "metadata": {
        "id": "wzbuh7uWW4QU"
      },
      "execution_count": null,
      "outputs": []
    },
    {
      "cell_type": "markdown",
      "metadata": {
        "id": "GrvrLblxkz42"
      },
      "source": [
        "### Getting the predicted stock price of 2017"
      ]
    },
    {
      "cell_type": "code",
      "source": [
        "datset_total=pd.concat((dataset['Open'],dataset_test['Open']),axis=0)\n",
        "inputs=datset_total[len(datset_total)-len(dataset_test)-60:].values\n",
        "inputs=inputs.reshape(-1,1)\n",
        "inputs=sc.transform(inputs)\n",
        "x_test=[]\n",
        "for i in range(60,80):\n",
        "  x_test.append(inputs[i-60:i,0])\n",
        "\n",
        "x_test=np.array(x_test)\n",
        "x_test=np.reshape(x_test,(x_test.shape[0],x_test.shape[1],1))\n",
        "predicted_stock_price=regressor.predict(x_test)\n",
        "predicted_stock_price=sc.inverse_transform(predicted_stock_price)"
      ],
      "metadata": {
        "colab": {
          "base_uri": "https://localhost:8080/"
        },
        "id": "2PY-Ww3kem3G",
        "outputId": "3f0dce33-f267-47d8-be88-c6134b8a6b59"
      },
      "execution_count": null,
      "outputs": [
        {
          "output_type": "stream",
          "name": "stdout",
          "text": [
            "1/1 [==============================] - 2s 2s/step\n"
          ]
        }
      ]
    },
    {
      "cell_type": "code",
      "source": [
        "print(predicted_stock_price)"
      ],
      "metadata": {
        "colab": {
          "base_uri": "https://localhost:8080/"
        },
        "id": "lCXk6Sc7i1SE",
        "outputId": "eceab842-1fb8-4a47-e23c-b7ccc02b7211"
      },
      "execution_count": null,
      "outputs": [
        {
          "output_type": "stream",
          "name": "stdout",
          "text": [
            "[[789.10205]\n",
            " [786.4142 ]\n",
            " [786.6084 ]\n",
            " [787.8588 ]\n",
            " [791.0235 ]\n",
            " [796.7358 ]\n",
            " [802.04877]\n",
            " [804.3629 ]\n",
            " [804.91705]\n",
            " [804.8316 ]\n",
            " [804.6108 ]\n",
            " [804.27673]\n",
            " [803.9979 ]\n",
            " [804.4476 ]\n",
            " [805.3683 ]\n",
            " [809.91833]\n",
            " [816.72614]\n",
            " [824.0729 ]\n",
            " [828.23096]\n",
            " [824.54034]]\n"
          ]
        }
      ]
    },
    {
      "cell_type": "markdown",
      "metadata": {
        "id": "iFTNs3YHk6FQ"
      },
      "source": [
        "### Visualising the results"
      ]
    },
    {
      "cell_type": "code",
      "source": [
        "plt.plot(real_stock_price, color = 'red', label = 'Real Google Stock Price')\n",
        "plt.plot(predicted_stock_price, color = 'blue', label = 'Predicted Google Stock Price')\n",
        "plt.title('Google Stock Price Prediction')\n",
        "plt.xlabel('Time')\n",
        "plt.ylabel('Google Stock Price')\n",
        "plt.legend()\n",
        "plt.show()"
      ],
      "metadata": {
        "colab": {
          "base_uri": "https://localhost:8080/",
          "height": 472
        },
        "id": "nR1I2CQai71H",
        "outputId": "130187e4-2eb7-43d8-cc8e-e90d1a837616"
      },
      "execution_count": null,
      "outputs": [
        {
          "output_type": "display_data",
          "data": {
            "text/plain": [
              "<Figure size 640x480 with 1 Axes>"
            ],
            "image/png": "[encoded data removed]"
          },
          "metadata": {}
        }
      ]
    }
  ]
}